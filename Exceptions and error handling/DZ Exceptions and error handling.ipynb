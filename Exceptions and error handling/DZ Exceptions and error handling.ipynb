{
 "cells": [
  {
   "cell_type": "markdown",
   "id": "4329d59f",
   "metadata": {},
   "source": [
    "## Задание 1"
   ]
  },
  {
   "cell_type": "code",
   "execution_count": 116,
   "id": "939a7df4",
   "metadata": {},
   "outputs": [
    {
     "name": "stdout",
     "output_type": "stream",
     "text": [
      "2002-10-02 00:00:00\n",
      "2011-10-13 00:00:00\n",
      "1977-08-18 00:00:00\n"
     ]
    }
   ],
   "source": [
    "from datetime import datetime\n",
    "\n",
    "The_Moscow_Times = datetime.strptime('Wednesday, October 2, 2002', '%A, %B %d, %Y')\n",
    "The_Guardian     = datetime.strptime('Friday,11.10.13', '%A,%y.%m.%d')\n",
    "Daily_News       = datetime.strptime('Thursday, 18 August 1977', '%A, %d %B %Y' ) \n",
    "\n",
    "print (The_Moscow_Times)\n",
    "print (The_Guardian)\n",
    "print (Daily_News)\n",
    "\n"
   ]
  },
  {
   "cell_type": "code",
   "execution_count": 129,
   "id": "50c4e9ab",
   "metadata": {},
   "outputs": [
    {
     "name": "stdout",
     "output_type": "stream",
     "text": [
      "2018-04-02:True\n",
      "2018-02-29:False\n",
      "2018-19-02:False\n"
     ]
    }
   ],
   "source": [
    "from datetime import datetime\n",
    "\n",
    "def IsDateCorrect(date_value):\n",
    "    try:\n",
    "        date_ = datetime.strptime(date_value, \"%Y-%m-%d\")\n",
    "        return 'True'\n",
    "    except ValueError:\n",
    "        return 'False'\n",
    "\n",
    "stream = ['2018-04-02', '2018-02-29', '2018-19-02']\n",
    "for date_value in stream:\n",
    "    print(date_value + ':' + IsDateCorrect(date_value))\n"
   ]
  },
  {
   "cell_type": "code",
   "execution_count": 134,
   "id": "32cf1f65",
   "metadata": {},
   "outputs": [
    {
     "name": "stdout",
     "output_type": "stream",
     "text": [
      "Введие начальную дату: 2002-10-02\n",
      "Введие начальную дату: 2002-10-25\n",
      "2002-10-02 00:00:00\n",
      "2002-10-03 00:00:00\n",
      "2002-10-04 00:00:00\n",
      "2002-10-05 00:00:00\n",
      "2002-10-06 00:00:00\n",
      "2002-10-07 00:00:00\n",
      "2002-10-08 00:00:00\n",
      "2002-10-09 00:00:00\n",
      "2002-10-10 00:00:00\n",
      "2002-10-11 00:00:00\n",
      "2002-10-12 00:00:00\n",
      "2002-10-13 00:00:00\n",
      "2002-10-14 00:00:00\n",
      "2002-10-15 00:00:00\n",
      "2002-10-16 00:00:00\n",
      "2002-10-17 00:00:00\n",
      "2002-10-18 00:00:00\n",
      "2002-10-19 00:00:00\n",
      "2002-10-20 00:00:00\n",
      "2002-10-21 00:00:00\n",
      "2002-10-22 00:00:00\n",
      "2002-10-23 00:00:00\n",
      "2002-10-24 00:00:00\n",
      "2002-10-25 00:00:00\n"
     ]
    }
   ],
   "source": [
    "from datetime import datetime, timedelta\n",
    "\n",
    "def Get_List_Of_Dates():\n",
    "    start_date_string = input(\"Введие начальную дату: \")\n",
    "    start_date = IsDateCorrect(start_date_string)\n",
    "    if (start_date is None):\n",
    "        print('Начальная дата введена некорректно')\n",
    "        return\n",
    "\n",
    "    end_date_string = input(\"Введие начальную дату: \")\n",
    "    end_date = IsDateCorrect(end_date_string)\n",
    "    if (end_date is None):\n",
    "        print('Конечная дата введена некорректно')\n",
    "        return\n",
    "\n",
    "    if (start_date > end_date):\n",
    "        print('Начальная дата не должна быть больше конечной')\n",
    "        return\n",
    "    elif (start_date == end_date):\n",
    "        print('Начальная дата не должна равна конечной')\n",
    "        return\n",
    "\n",
    "    date_diff = abs((end_date - start_date).days) + 1\n",
    "    for i in range(date_diff):\n",
    "        print(start_date + timedelta(days = i))\n",
    "\n",
    "def IsDateCorrect(date_value):\n",
    "    try:\n",
    "        date_ = datetime.strptime(date_value, \"%Y-%m-%d\")\n",
    "        return date_\n",
    "    except ValueError:\n",
    "        return None\n",
    "    \n",
    "Get_List_Of_Dates()"
   ]
  },
  {
   "cell_type": "code",
   "execution_count": null,
   "id": "1d8b57b6",
   "metadata": {},
   "outputs": [],
   "source": []
  },
  {
   "cell_type": "code",
   "execution_count": null,
   "id": "c0279b12",
   "metadata": {},
   "outputs": [],
   "source": []
  }
 ],
 "metadata": {
  "kernelspec": {
   "display_name": "Python 3",
   "language": "python",
   "name": "python3"
  },
  "language_info": {
   "codemirror_mode": {
    "name": "ipython",
    "version": 3
   },
   "file_extension": ".py",
   "mimetype": "text/x-python",
   "name": "python",
   "nbconvert_exporter": "python",
   "pygments_lexer": "ipython3",
   "version": "3.8.8"
  }
 },
 "nbformat": 4,
 "nbformat_minor": 5
}
