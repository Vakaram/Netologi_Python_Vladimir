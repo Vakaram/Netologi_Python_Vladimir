{
 "cells": [
  {
   "cell_type": "code",
   "execution_count": 101,
   "id": "87cdfbfd",
   "metadata": {},
   "outputs": [
    {
     "name": "stdout",
     "output_type": "stream",
     "text": [
      "Фраза 1 длиннее фразы 2\n"
     ]
    }
   ],
   "source": [
    "# Задание 1\n",
    "phrase_1 = \"Насколько проще было бы писать программы,если бы не заказчики\"\n",
    "phrase_2 = \"640Кб должно хватить для любых задач.Билл Гейтс (по легенде)\"\n",
    "len (phrase_1) > len (phrase_2)\n",
    "# Оптимизация a_len новая переменная котора хранит длинну строки phrase_1\n",
    "a_len = len (phrase_1)\n",
    "b_len = len (phrase_2)\n",
    "if a_len > b_len:\n",
    "    print('Фраза 1 длиннее фразы 2') ;\n",
    "elif a_len == b_len:\n",
    "    print('Фразы равной длины') ;\n",
    "else :\n",
    "    print('Фраза 2 длиннее фразы 1') ;\n",
    "\n"
   ]
  },
  {
   "cell_type": "code",
   "execution_count": null,
   "id": "fe7fafff",
   "metadata": {},
   "outputs": [],
   "source": [
    "# Задание 2\n",
    "year = int(input(\"Введите год для проверки на високосность\"))\n",
    "if (year % 4 == 0) and (year % 100 != 0) or (year % 400 == 0):\n",
    "    print('YES')\n",
    "else:\n",
    "    print('NO')"
   ]
  },
  {
   "cell_type": "code",
   "execution_count": null,
   "id": "c4c7b832",
   "metadata": {},
   "outputs": [],
   "source": [
    "# Задание 3\n",
    "date=int(input(\"Введите день рождения:\"))\n",
    "\n",
    "month=int(input(\"Введите месяц рождения числом:\"))\n",
    "\n",
    "year=int(input(\"Введите год рождения:\"))\n",
    "\n",
    "\n",
    "if (date>=21 and date<=31 and month==3) or( month==4 and date>=1 and date<=19):\n",
    "\n",
    "   print(\"Знак зодиака:Овен\")\n",
    "\n",
    "elif (date>=20 and date<=30 and month==4) or( month==5 and date>=1 and date<=20):\n",
    "\n",
    "   print(\"Знак зодиака:Телец\")\n",
    "\n",
    "elif (date>=21 and date<=31 and month==5) or( month==6 and date>=1 and date<=21):\n",
    "\n",
    "   print(\"Знак зодиака:Близнецы\")\n",
    "\n",
    "elif (date>=22 and date<=30 and month==6) or( month==7 and date>=1 and date<=22):\n",
    "\n",
    "   print(\"Знак зодиака:Рак\")\n",
    "\n",
    "elif (date>=23 and date<=31 and month==7) or( month==8 and date>=1 and date<=22):\n",
    "\n",
    "   print(\"Знак зодиака:Лев\")\n",
    "\n",
    "elif (date>=23 and date<=31 and month==8) or( month==9 and date>=1 and date<=22):\n",
    "\n",
    "   print(\"Знак зодиака:Дева\")\n",
    "\n",
    "elif (date>=23 and date<=30 and month==9) or( month==10 and date>=1 and date<=23):\n",
    "\n",
    "   print(\"Знак зодиака:Весы\")\n",
    "\n",
    "elif (date>=24 and date<=31 and month==10) or( month==11 and date>=1 and date<=22):\n",
    "\n",
    "   print(\"Знак зодиака:Скорпион\")\n",
    "\n",
    "elif (date>=23 and date<=30 and month==11) or( month==12 and date>=1 and date<=21):\n",
    "\n",
    "   print(\"Знак зодиака:Стрелец\")\n",
    "\n",
    "elif (date>=22 and date<=31 and month==12) or( month==1 and date>=1 and date<=20):\n",
    "\n",
    "   print(\"Знак зодиака:Козерог\")\n",
    "\n",
    "elif (date>=21 and date<=31 and month==1) or( month==2 and date>=1 and date<=18):\n",
    "\n",
    "   print(\"Знак зодиака:Водолей\")\n",
    "\n",
    "elif (date>=19 and date<=29 and month==2) or( month==3 and date>=1 and date<=20):\n",
    "\n",
    "   print(\"Знак зодиака:Рыбы\")"
   ]
  },
  {
   "cell_type": "code",
   "execution_count": null,
   "id": "c66bb640",
   "metadata": {},
   "outputs": [],
   "source": [
    "# Задание 4\n",
    "width=int(input(\"Введите Ширину:\"))\n",
    "\n",
    "length=int(input(\"Введите длину:\"))\n",
    "\n",
    "height=int(input(\"Введите высоту:\"))\n",
    "\n",
    "w = width\n",
    "l = length\n",
    "h = height\n",
    "if w < 15 and l < 15 and h < 15:\n",
    "    print('Коробка №1') ;\n",
    "elif l >= 200 :\n",
    "    print('Упаковка для лыж') ;\n",
    "elif 15 < w > 50 and 15 < l > 50 and 15 < h > 50  :\n",
    "    print('Коробка №2') ;\n",
    "else:\n",
    "    print('Стандартная коробка №3') ;"
   ]
  },
  {
   "cell_type": "code",
   "execution_count": 3,
   "id": "f7119e40",
   "metadata": {},
   "outputs": [
    {
     "name": "stdout",
     "output_type": "stream",
     "text": [
      "147831\n",
      "Счастливый\n"
     ]
    }
   ],
   "source": [
    "# Задание 5\n",
    "# str приводит введёное число в строковое представление \n",
    "s = str(input())\n",
    "sum1=int(s[0])+int(s[1])+int(s[2])\n",
    "sum2=int(s[3])+int(s[4])+int(s[5])\n",
    "if sum1==sum2:\n",
    "  print('Счастливый')\n",
    "else:\n",
    "  print('Обычный')"
   ]
  },
  {
   "cell_type": "code",
   "execution_count": null,
   "id": "d2d7e3e1",
   "metadata": {},
   "outputs": [],
   "source": []
  }
 ],
 "metadata": {
  "kernelspec": {
   "display_name": "Python 3",
   "language": "python",
   "name": "python3"
  }
 },
 "nbformat": 4,
 "nbformat_minor": 5
}
