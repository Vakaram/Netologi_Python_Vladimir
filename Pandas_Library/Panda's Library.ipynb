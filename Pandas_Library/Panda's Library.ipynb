{
 "cells": [
  {
   "cell_type": "markdown",
   "id": "9a89761b",
   "metadata": {},
   "source": [
    "## Задание 1\n",
    "### Скачайте с сайта grouplens.org...movielens/ датасет любого размера. Определите какому фильму было выставлено больше всего оценок 5.0."
   ]
  },
  {
   "cell_type": "code",
   "execution_count": 19,
   "id": "d2bc7a8a",
   "metadata": {},
   "outputs": [],
   "source": [
    "import pandas as pd"
   ]
  },
  {
   "cell_type": "code",
   "execution_count": 18,
   "id": "54bfc2d7",
   "metadata": {},
   "outputs": [
    {
     "data": {
      "text/plain": [
       "318    39553\n",
       "Name: movieId, dtype: int64"
      ]
     },
     "execution_count": 18,
     "metadata": {},
     "output_type": "execute_result"
    }
   ],
   "source": [
    "ds=pd.read_csv('ratings.csv', 'r', delimiter=',')\n",
    "ds[ds['rating']==5.0]['movieId'].value_counts().head(1)"
   ]
  },
  {
   "cell_type": "markdown",
   "id": "de1c99e1",
   "metadata": {},
   "source": [
    "## Задание 2\n",
    "### По данным файла power.csv посчитайте суммарное потребление стран Прибалтики (Латвия, Литва и Эстония) категорий 4, 12 и 21 за период с 2005 по 2010 года. Не учитывайте в расчетах отрицательные значения quantity."
   ]
  },
  {
   "cell_type": "code",
   "execution_count": 20,
   "id": "4a82314f",
   "metadata": {},
   "outputs": [
    {
     "name": "stdout",
     "output_type": "stream",
     "text": [
      "суммарное потребление: 240580.0\n"
     ]
    }
   ],
   "source": [
    "summ=0\n",
    "ds=pd.read_csv('power.csv', 'r', delimiter=',')\n",
    "ds2=ds[(ds['year']>=2005)&(ds['year']<=2010)&(ds['quantity']>0)]\n",
    "ds3=ds2[ds2.category.isin([4,12,21])]\n",
    "summ=ds3[ds3.country.str.contains('|'.join(['Lat','Lit','Est']))]['quantity'].sum()\n",
    "print('суммарное потребление: {}'.format(summ))"
   ]
  },
  {
   "cell_type": "markdown",
   "id": "0327d300",
   "metadata": {},
   "source": [
    "## Задание 3\n",
    "### Выберите страницу любого сайта с табличными данными. Импортируйте таблицы в pandas dataframe.\n",
    "### Примеры страниц (необязательно брать именно эти):"
   ]
  },
  {
   "cell_type": "code",
   "execution_count": 52,
   "id": "68615f80",
   "metadata": {},
   "outputs": [
    {
     "data": {
      "text/html": [
       "<div>\n",
       "<style scoped>\n",
       "    .dataframe tbody tr th:only-of-type {\n",
       "        vertical-align: middle;\n",
       "    }\n",
       "\n",
       "    .dataframe tbody tr th {\n",
       "        vertical-align: top;\n",
       "    }\n",
       "\n",
       "    .dataframe thead th {\n",
       "        text-align: right;\n",
       "    }\n",
       "</style>\n",
       "<table border=\"1\" class=\"dataframe\">\n",
       "  <thead>\n",
       "    <tr style=\"text-align: right;\">\n",
       "      <th></th>\n",
       "      <th>Country</th>\n",
       "      <th>2009</th>\n",
       "      <th>2010</th>\n",
       "      <th>2011</th>\n",
       "      <th>2012</th>\n",
       "      <th>2013</th>\n",
       "    </tr>\n",
       "  </thead>\n",
       "  <tbody>\n",
       "    <tr>\n",
       "      <th>0</th>\n",
       "      <td>India</td>\n",
       "      <td>442.37</td>\n",
       "      <td>745.70</td>\n",
       "      <td>986.3</td>\n",
       "      <td>864.0</td>\n",
       "      <td>974.0</td>\n",
       "    </tr>\n",
       "    <tr>\n",
       "      <th>1</th>\n",
       "      <td>China</td>\n",
       "      <td>376.96</td>\n",
       "      <td>428.00</td>\n",
       "      <td>921.5</td>\n",
       "      <td>817.5</td>\n",
       "      <td>1120.1</td>\n",
       "    </tr>\n",
       "    <tr>\n",
       "      <th>2</th>\n",
       "      <td>United States</td>\n",
       "      <td>150.28</td>\n",
       "      <td>128.61</td>\n",
       "      <td>199.5</td>\n",
       "      <td>161.0</td>\n",
       "      <td>190.0</td>\n",
       "    </tr>\n",
       "    <tr>\n",
       "      <th>3</th>\n",
       "      <td>Turkey</td>\n",
       "      <td>75.16</td>\n",
       "      <td>74.07</td>\n",
       "      <td>143</td>\n",
       "      <td>118.0</td>\n",
       "      <td>175.2</td>\n",
       "    </tr>\n",
       "    <tr>\n",
       "      <th>4</th>\n",
       "      <td>Saudi Arabia</td>\n",
       "      <td>77.75</td>\n",
       "      <td>72.95</td>\n",
       "      <td>69.1</td>\n",
       "      <td>58.5</td>\n",
       "      <td>72.2</td>\n",
       "    </tr>\n",
       "  </tbody>\n",
       "</table>\n",
       "</div>"
      ],
      "text/plain": [
       "         Country    2009    2010   2011   2012    2013\n",
       "0          India  442.37  745.70  986.3  864.0   974.0\n",
       "1          China  376.96  428.00  921.5  817.5  1120.1\n",
       "2  United States  150.28  128.61  199.5  161.0   190.0\n",
       "3         Turkey   75.16   74.07    143  118.0   175.2\n",
       "4   Saudi Arabia   77.75   72.95   69.1   58.5    72.2"
      ]
     },
     "execution_count": 52,
     "metadata": {},
     "output_type": "execute_result"
    }
   ],
   "source": [
    "import pandas as pd\n",
    "import numpy as np\n",
    "import matplotlib.pyplot as plt\n",
    "from unicodedata import normalize\n",
    "\n",
    "table_MN = pd.read_html('https://en.wikipedia.org/wiki/Gold', match='Gold jewelry consumption by country in tonnes')\n",
    "len(table_MN)\n",
    "df = table_MN[0]\n",
    "df.head()"
   ]
  },
  {
   "cell_type": "code",
   "execution_count": null,
   "id": "c0dd8d1b",
   "metadata": {},
   "outputs": [],
   "source": []
  }
 ],
 "metadata": {
  "kernelspec": {
   "display_name": "Python 3",
   "language": "python",
   "name": "python3"
  },
  "language_info": {
   "codemirror_mode": {
    "name": "ipython",
    "version": 3
   },
   "file_extension": ".py",
   "mimetype": "text/x-python",
   "name": "python",
   "nbconvert_exporter": "python",
   "pygments_lexer": "ipython3",
   "version": "3.8.8"
  }
 },
 "nbformat": 4,
 "nbformat_minor": 5
}
