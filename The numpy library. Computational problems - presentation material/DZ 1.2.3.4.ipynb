{
 "cells": [
  {
   "cell_type": "markdown",
   "id": "366b4104",
   "metadata": {},
   "source": [
    "## Библиотека numpy. Вычислительные задачи- предлекционный материал"
   ]
  },
  {
   "cell_type": "code",
   "execution_count": 2,
   "id": "fa175047",
   "metadata": {},
   "outputs": [],
   "source": []
  },
  {
   "cell_type": "markdown",
   "id": "96a7aee4",
   "metadata": {},
   "source": [
    "## Задание 1\n",
    "### \"Создайте numpy array с элементами от числа N до 0 (например, для N = 10 это будет array([9, 8, 7, 6, 5, 4, 3, 2, 1, 0]))\""
   ]
  },
  {
   "cell_type": "code",
   "execution_count": 3,
   "id": "cc14d5c0",
   "metadata": {},
   "outputs": [
    {
     "name": "stdout",
     "output_type": "stream",
     "text": [
      "Введи число 10\n",
      "[9 8 7 6 5 4 3 2 1 0]\n"
     ]
    }
   ],
   "source": [
    "import numpy as np\n",
    "n = int(input(\"Введи число \")) # Принимает на вход чилсо с которого начнётся Функция (arange)\n",
    "a = np.arange(n-1,-1,-1)\n",
    "print (a)"
   ]
  },
  {
   "cell_type": "markdown",
   "id": "9383fa5d",
   "metadata": {},
   "source": [
    "## Задание 2\n",
    "\n",
    "### Создайте диагональную матрицу с элементами от N до 0. Посчитайте сумму ее значений на диагонали."
   ]
  },
  {
   "cell_type": "code",
   "execution_count": 4,
   "id": "54b16632",
   "metadata": {
    "scrolled": true
   },
   "outputs": [
    {
     "name": "stdout",
     "output_type": "stream",
     "text": [
      "11\n",
      "[[11  0  0  0  0  0  0  0  0  0  0]\n",
      " [ 0 10  0  0  0  0  0  0  0  0  0]\n",
      " [ 0  0  9  0  0  0  0  0  0  0  0]\n",
      " [ 0  0  0  8  0  0  0  0  0  0  0]\n",
      " [ 0  0  0  0  7  0  0  0  0  0  0]\n",
      " [ 0  0  0  0  0  6  0  0  0  0  0]\n",
      " [ 0  0  0  0  0  0  5  0  0  0  0]\n",
      " [ 0  0  0  0  0  0  0  4  0  0  0]\n",
      " [ 0  0  0  0  0  0  0  0  3  0  0]\n",
      " [ 0  0  0  0  0  0  0  0  0  2  0]\n",
      " [ 0  0  0  0  0  0  0  0  0  0  1]]\n",
      "[11 10  9  8  7  6  5  4  3  2  1]\n",
      "66\n"
     ]
    }
   ],
   "source": [
    "n=int(input())\n",
    "matrix=np.diag(np.arange(n,0,-1))\n",
    "print(matrix)\n",
    "print (sum(matrix))\n",
    "print (format(sum(sum(matrix))))"
   ]
  },
  {
   "cell_type": "markdown",
   "id": "c31e5bf7",
   "metadata": {},
   "source": [
    "## Задание 3\n",
    "### Решите систему уравнений:"
   ]
  },
  {
   "cell_type": "code",
   "execution_count": 26,
   "id": "16b97b2c",
   "metadata": {},
   "outputs": [
    {
     "data": {
      "text/plain": [
       "array([ 0.46666667,  3.84444444, -5.55555556])"
      ]
     },
     "execution_count": 26,
     "metadata": {},
     "output_type": "execute_result"
    }
   ],
   "source": [
    "from numpy import linalg\n",
    "a=np.array([[4,2,1],[1,3,0],[0,5,4]])\n",
    "b=np.array([4,12,-3])\n",
    "linalg.solve(a,b)"
   ]
  },
  {
   "cell_type": "markdown",
   "id": "a5567cde",
   "metadata": {},
   "source": [
    "## Задание 4\n",
    "### В материалах занятия раздел “Задача 4 домашнего задания”"
   ]
  },
  {
   "cell_type": "code",
   "execution_count": 2,
   "id": "fd178f96",
   "metadata": {},
   "outputs": [
    {
     "name": "stdout",
     "output_type": "stream",
     "text": [
      "7\n"
     ]
    }
   ],
   "source": [
    "import numpy as np\n",
    "\n",
    "def cosine( users_stats, next_user_stats ):\n",
    "    # длины векторов\n",
    "    users_stats_Length = np.linalg.norm( users_stats )\n",
    "    next_user_stats_Length = np.linalg.norm( next_user_stats )\n",
    "    return np.dot( users_stats, next_user_stats ) / ( users_stats_Length * next_user_stats_Length )\n",
    "\n",
    "users = np.array([\n",
    "        [2, 1, 0, 0, 0, 0],\n",
    "        [1, 1, 2, 1, 0, 0],\n",
    "        [2, 0, 1, 0, 0, 0],\n",
    "        [1, 1, 2, 1, 0, 1],\n",
    "        [0, 0, 1, 2, 0, 0],\n",
    "        [0, 0, 0, 0, 0, 5],\n",
    "        [1, 0, 0, 0, 0, 0],\n",
    "        [0, 1, 1, 0, 0, 0],\n",
    "        [0, 0, 0, 1, 1, 3],\n",
    "        [1, 0, 0, 2, 1, 4]\n",
    "    ])\n",
    "new_user = np.array ([0, 1, 2, 0, 0, 0])\n",
    "\n",
    "cosines = []\n",
    "\n",
    "for user in users:\n",
    "    cosines.append(cosine(new_user, user))\n",
    "\n",
    "maxValue = np.amax(cosines)\n",
    "    \n",
    "for i in range(len(cosines)):\n",
    "    if (cosines[i] == maxValue):\n",
    "        print(i)"
   ]
  }
 ],
 "metadata": {
  "kernelspec": {
   "display_name": "Python 3",
   "language": "python",
   "name": "python3"
  },
  "language_info": {
   "codemirror_mode": {
    "name": "ipython",
    "version": 3
   },
   "file_extension": ".py",
   "mimetype": "text/x-python",
   "name": "python",
   "nbconvert_exporter": "python",
   "pygments_lexer": "ipython3",
   "version": "3.8.8"
  }
 },
 "nbformat": 4,
 "nbformat_minor": 5
}
