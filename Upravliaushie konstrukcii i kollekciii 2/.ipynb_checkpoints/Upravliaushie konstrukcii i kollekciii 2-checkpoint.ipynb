{
 "cells": [
  {
   "cell_type": "code",
   "execution_count": 1,
   "id": "f1760f38",
   "metadata": {},
   "outputs": [
    {
     "name": "stdout",
     "output_type": "stream",
     "text": [
      "{98, 35, 15, 213, 54, 119}\n"
     ]
    }
   ],
   "source": [
    "#Task 1 \n",
    "ids = {'user1': [213, 213, 213, 15, 213],\n",
    "'user2': [54, 54, 119, 119, 119],\n",
    "'user3': [213, 98, 98, 35]}\n",
    "#Результат: {98, 35, 15, 213, 54, 119}\n",
    "geodata = []\n",
    "for users in ids:\n",
    "    #print (ids[users])\n",
    "    geodata = geodata + ids[users]\n",
    "print (set(geodata))"
   ]
  },
  {
   "cell_type": "code",
   "execution_count": 5,
   "id": "92c4426d",
   "metadata": {},
   "outputs": [
    {
     "name": "stdout",
     "output_type": "stream",
     "text": [
      "57.14%  3 слов\n",
      "42.86%  2 слов\n"
     ]
    }
   ],
   "source": [
    "# Поправил, и посмотрел задание как решать на которую вы ссылку скидывали\n",
    "# Ну в общем да практически три строчки, я понял. Есть куда рости \n",
    "def Set_Dictionary(count_words, words_count):\n",
    "    words_count_in_dictionary = count_words.get(words_count)\n",
    "    if (words_count_in_dictionary is None):\n",
    "        count_words[words_count] = 1\n",
    "    else:\n",
    "        count_words[words_count] = words_count_in_dictionary + 1\n",
    "\n",
    "queries = [\n",
    "    'смотреть сериалы онлайн',\n",
    "    'новости спорта',\n",
    "    'афиша кино',\n",
    "    'курс доллара',\n",
    "    'сериалы этим летом',\n",
    "    'курс по питону',\n",
    "    'сериалы про спорт  ',\n",
    "]\n",
    "\n",
    "count_words = {}\n",
    "\n",
    "queries_len = len(queries)\n",
    "\n",
    "for query in queries:\n",
    "    Set_Dictionary(count_words, len(query.split()))\n",
    "    \n",
    "for count_word in count_words:\n",
    "    print(\"{:.2f}% \".format(count_words[count_word] / queries_len * 100 ), count_word, \"слов\")"
   ]
  },
  {
   "cell_type": "code",
   "execution_count": 4,
   "id": "6004caa9",
   "metadata": {},
   "outputs": [
    {
     "name": "stdout",
     "output_type": "stream",
     "text": [
      "{'revenue': 103, 'cost': 98, 'ROI': 5.1}\n",
      "{'revenue': 179, 'cost': 153, 'ROI': 16.99}\n",
      "{'revenue': 103, 'cost': 110, 'ROI': -6.36}\n",
      "{'revenue': 35, 'cost': 34, 'ROI': 2.94}\n",
      "{'revenue': 11, 'cost': 24, 'ROI': -54.17}\n"
     ]
    }
   ],
   "source": [
    "#Task 3 \n",
    "\n",
    "def Get_ROI(x, y):\n",
    "    return round((x / y - 1) * 100, 2)\n",
    "\n",
    "results = {\n",
    "'vk': {'revenue': 103, 'cost': 98},\n",
    "'yandex': {'revenue': 179, 'cost': 153},\n",
    "'facebook': {'revenue': 103, 'cost': 110},\n",
    "'adwords': {'revenue': 35, 'cost': 34},\n",
    "'twitter': {'revenue': 11, 'cost': 24},\n",
    "}\n",
    "\n",
    "for result in results:\n",
    "  results[result].update({'ROI': Get_ROI(results[result].get('revenue'), results[result].get('cost'))})\n",
    "  print(results[result])\n"
   ]
  },
  {
   "cell_type": "code",
   "execution_count": 5,
   "id": "b255a455",
   "metadata": {},
   "outputs": [
    {
     "name": "stdout",
     "output_type": "stream",
     "text": [
      "vk\n"
     ]
    }
   ],
   "source": [
    "#Task 4 \n",
    "\n",
    "stats = {'facebook': 55, 'yandex': 115, 'vk': 120, 'google': 99, 'email': 42, 'ok': 98}\n",
    "max = -1\n",
    "key = \"\"\n",
    "for stat in stats:  \n",
    "    if (stats[stat] > max):\n",
    "        max = stats[stat]\n",
    "        key = stat\n",
    "    \n",
    "print (key)\n"
   ]
  }
 ],
 "metadata": {
  "kernelspec": {
   "display_name": "Python 3",
   "language": "python",
   "name": "python3"
  },
  "language_info": {
   "codemirror_mode": {
    "name": "ipython",
    "version": 3
   },
   "file_extension": ".py",
   "mimetype": "text/x-python",
   "name": "python",
   "nbconvert_exporter": "python",
   "pygments_lexer": "ipython3",
   "version": "3.8.8"
  }
 },
 "nbformat": 4,
 "nbformat_minor": 5
}
