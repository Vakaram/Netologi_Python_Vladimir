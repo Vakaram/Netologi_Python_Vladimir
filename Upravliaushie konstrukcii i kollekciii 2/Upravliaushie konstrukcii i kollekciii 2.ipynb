{
 "cells": [
  {
   "cell_type": "code",
   "execution_count": 1,
   "id": "f1760f38",
   "metadata": {},
   "outputs": [
    {
     "name": "stdout",
     "output_type": "stream",
     "text": [
      "{98, 35, 15, 213, 54, 119}\n"
     ]
    }
   ],
   "source": [
    "#Task 1 \n",
    "ids = {'user1': [213, 213, 213, 15, 213],\n",
    "'user2': [54, 54, 119, 119, 119],\n",
    "'user3': [213, 98, 98, 35]}\n",
    "#Результат: {98, 35, 15, 213, 54, 119}\n",
    "geodata = []\n",
    "for users in ids:\n",
    "    #print (ids[users])\n",
    "    geodata = geodata + ids[users]\n",
    "print (set(geodata))"
   ]
  },
  {
   "cell_type": "code",
   "execution_count": 3,
   "id": "92c4426d",
   "metadata": {},
   "outputs": [
    {
     "name": "stdout",
     "output_type": "stream",
     "text": [
      "42.86% двух слов\n",
      "57.14% трех слов\n"
     ]
    }
   ],
   "source": [
    "# Task 2\n",
    "queries = [\n",
    "    'смотреть сериалы онлайн',\n",
    "    'новости спорта',\n",
    "    'афиша кино',\n",
    "    'курс доллара',\n",
    "    'сериалы этим летом',\n",
    "    'курс по питону',\n",
    "    'сериалы про спорт',\n",
    "]\n",
    "\n",
    "two_words = 0\n",
    "three_words = 0\n",
    "lengg = len(queries)\n",
    "\n",
    "for query in queries:\n",
    "    wordsCount = len(query.split())\n",
    "    if (wordsCount == 2):\n",
    "        two_words = two_words + 1\n",
    "    elif (wordsCount == 3):\n",
    "        three_words = three_words + 1\n",
    "        \n",
    "print(\"{:.2f}% двух слов\".format(two_words / lengg * 100 ))\n",
    "print(\"{:.2f}% трех слов\".format(three_words / lengg * 100))"
   ]
  },
  {
   "cell_type": "code",
   "execution_count": 4,
   "id": "6004caa9",
   "metadata": {},
   "outputs": [
    {
     "name": "stdout",
     "output_type": "stream",
     "text": [
      "{'revenue': 103, 'cost': 98, 'ROI': 5.1}\n",
      "{'revenue': 179, 'cost': 153, 'ROI': 16.99}\n",
      "{'revenue': 103, 'cost': 110, 'ROI': -6.36}\n",
      "{'revenue': 35, 'cost': 34, 'ROI': 2.94}\n",
      "{'revenue': 11, 'cost': 24, 'ROI': -54.17}\n"
     ]
    }
   ],
   "source": [
    "#Task 3 \n",
    "\n",
    "def Get_ROI(x, y):\n",
    "    return round((x / y - 1) * 100, 2)\n",
    "\n",
    "results = {\n",
    "'vk': {'revenue': 103, 'cost': 98},\n",
    "'yandex': {'revenue': 179, 'cost': 153},\n",
    "'facebook': {'revenue': 103, 'cost': 110},\n",
    "'adwords': {'revenue': 35, 'cost': 34},\n",
    "'twitter': {'revenue': 11, 'cost': 24},\n",
    "}\n",
    "\n",
    "for result in results:\n",
    "  results[result].update({'ROI': Get_ROI(results[result].get('revenue'), results[result].get('cost'))})\n",
    "  print(results[result])\n"
   ]
  },
  {
   "cell_type": "code",
   "execution_count": 5,
   "id": "b255a455",
   "metadata": {},
   "outputs": [
    {
     "name": "stdout",
     "output_type": "stream",
     "text": [
      "vk\n"
     ]
    }
   ],
   "source": [
    "#Task 4 \n",
    "\n",
    "stats = {'facebook': 55, 'yandex': 115, 'vk': 120, 'google': 99, 'email': 42, 'ok': 98}\n",
    "max = -1\n",
    "key = \"\"\n",
    "for stat in stats:  \n",
    "    if (stats[stat] > max):\n",
    "        max = stats[stat]\n",
    "        key = stat\n",
    "    \n",
    "print (key)\n"
   ]
  }
 ],
 "metadata": {
  "kernelspec": {
   "display_name": "Python 3",
   "language": "python",
   "name": "python3"
  },
  "language_info": {
   "codemirror_mode": {
    "name": "ipython",
    "version": 3
   },
   "file_extension": ".py",
   "mimetype": "text/x-python",
   "name": "python",
   "nbconvert_exporter": "python",
   "pygments_lexer": "ipython3",
   "version": "3.8.8"
  }
 },
 "nbformat": 4,
 "nbformat_minor": 5
}
