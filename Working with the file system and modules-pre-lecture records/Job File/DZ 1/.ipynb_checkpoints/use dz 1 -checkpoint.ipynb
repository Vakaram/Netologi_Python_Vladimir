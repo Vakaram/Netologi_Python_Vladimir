{
 "cells": [
  {
   "cell_type": "markdown",
   "id": "83613129",
   "metadata": {},
   "source": [
    "# Bibleoteka этот файл словарь с ключами готовый находится в папке получается после работы программы\n",
    "\n",
    "import json \n",
    "new_dict = {}\n",
    "with open('C:\\\\Netoligy\\\\Job File\\\\1\\\\purchase_log.txt' , encoding = 'utf-8' ) as f:\n",
    "    for line in f:\n",
    "        dict_ = json.loads(line)\n",
    "        new_dict[ dict_['user_id'] ] = dict_['category']\n",
    "with open('C:\\\\Netoligy\\\\Job File\\\\1\\\\bibleoteka.txt', 'w') as fout: #Bibleoteka этот файл словарь с ключами готовый находится в папке \n",
    "    fout.write(str(new_dict))\n",
    "f.close()\n"
   ]
  },
  {
   "cell_type": "code",
   "execution_count": null,
   "id": "230470b8",
   "metadata": {},
   "outputs": [],
   "source": []
  }
 ],
 "metadata": {
  "kernelspec": {
   "display_name": "Python 3",
   "language": "python",
   "name": "python3"
  },
  "language_info": {
   "codemirror_mode": {
    "name": "ipython",
    "version": 3
   },
   "file_extension": ".py",
   "mimetype": "text/x-python",
   "name": "python",
   "nbconvert_exporter": "python",
   "pygments_lexer": "ipython3",
   "version": "3.8.8"
  }
 },
 "nbformat": 4,
 "nbformat_minor": 5
}
