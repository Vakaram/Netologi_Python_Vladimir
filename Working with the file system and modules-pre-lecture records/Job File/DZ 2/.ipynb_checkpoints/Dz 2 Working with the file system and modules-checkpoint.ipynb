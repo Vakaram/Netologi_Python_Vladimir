{
 "cells": [
  {
   "cell_type": "markdown",
   "id": "eadd0f3e",
   "metadata": {},
   "source": [
    "# Для каждого user_id в файле visit_log.csv определите третий столбец \n",
    "\n",
    "## funnel.txt файл итоговый\n"
   ]
  },
  {
   "cell_type": "code",
   "execution_count": null,
   "id": "e12bd771",
   "metadata": {},
   "outputs": [],
   "source": [
    "\n",
    "import json\n",
    "purchase_log_data = []\n",
    "# загружаем в оперативку файл purshase\n",
    "with open('C:\\\\Netoligy\\\\Job File\\\\1\\\\purchase_log.txt') as pur_fl:\n",
    "    for line in pur_fl:\n",
    "        dict_ = json.loads(line)\n",
    "        purchase_log_data.append(dict_)\n",
    "# функция по user_id на выходе даёт наименование продукта\n",
    "def products_name_ram(prod_name):\n",
    "    for d in  purchase_log_data:\n",
    "        if (d['user_id'] == prod_name):\n",
    "            return d['category']\n",
    "    return None\n",
    "with open('C:\\\\Netoligy\\\\Job File\\\\3\\\\funnel.txt', 'w' ) as result: # создаем файл для записи\n",
    "    with open('C:\\\\Netoligy\\\\Job File\\\\3\\\\visit_log.csv') as vis_lg: # открываем файл для построчного поиска\n",
    "        for line in vis_lg:\n",
    "            user_id = line.strip().split(',')[0]\n",
    "            category = products_name_ram(user_id)\n",
    "            if category:\n",
    "                line_out = line.rstrip() + ', ' + str(category) + '\\r'\n",
    "                result.write(line_out)"
   ]
  },
  {
   "cell_type": "code",
   "execution_count": null,
   "id": "ec4ba8aa",
   "metadata": {},
   "outputs": [],
   "source": []
  }
 ],
 "metadata": {
  "kernelspec": {
   "display_name": "Python 3",
   "language": "python",
   "name": "python3"
  },
  "language_info": {
   "codemirror_mode": {
    "name": "ipython",
    "version": 3
   },
   "file_extension": ".py",
   "mimetype": "text/x-python",
   "name": "python",
   "nbconvert_exporter": "python",
   "pygments_lexer": "ipython3",
   "version": "3.8.8"
  }
 },
 "nbformat": 4,
 "nbformat_minor": 5
}
